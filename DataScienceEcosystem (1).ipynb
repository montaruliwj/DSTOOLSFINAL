{
 "cells": [
  {
   "cell_type": "markdown",
   "id": "62de7d3a-7768-43b0-9b9b-a3f2689a52cd",
   "metadata": {
    "tags": []
   },
   "source": [
    "# Data Science Tools and Ecosystem"
   ]
  },
  {
   "cell_type": "markdown",
   "id": "ba3e7adb-2307-4715-b391-986e486e0449",
   "metadata": {},
   "source": [
    "In this notebook, Data Science Tools and Ecosystem are summarized."
   ]
  },
  {
   "cell_type": "markdown",
   "id": "a334d30f-330a-4fe7-bc31-6e2fba9f8c18",
   "metadata": {},
   "source": [
    "Objectives: \n",
    "- List popular languages for Data Science\n",
    "- List common libraries used by Data Scientists\n",
    "- Creating Tables in Jupyter Notebook\n",
    "- Arithmetic expressions in Jupyter Notebook "
   ]
  },
  {
   "cell_type": "markdown",
   "id": "fe918c81-cfd2-4d58-9620-07e01beb5f50",
   "metadata": {},
   "source": [
    "Some of the popular languages that Data Scientists use are:\n",
    "1. Python\n",
    "2. R\n",
    "3. SQL"
   ]
  },
  {
   "cell_type": "markdown",
   "id": "d2cca45d-ed15-48c8-9814-5519dc5291e0",
   "metadata": {},
   "source": [
    "Some of the commonly used libraries used by Data Scientists include: \n",
    "1. GGPlot\n",
    "2. Stringr\n",
    "3. Matplotlib"
   ]
  },
  {
   "cell_type": "markdown",
   "id": "3885ec6b-f9f2-40e6-9b5c-6b1def743922",
   "metadata": {},
   "source": [
    "|Data Science Tools|\n",
    "|------------------|\n",
    "|Jupyter Notebook|\n",
    "|R Studio|\n",
    "|Anaconda|"
   ]
  },
  {
   "cell_type": "markdown",
   "id": "6c4e8ddb-6931-42f4-b23b-6915df049dfb",
   "metadata": {},
   "source": [
    "### Below are a few examples of evaluating arithmetic expressions in Python: \n"
   ]
  },
  {
   "cell_type": "markdown",
   "id": "d6607a50-1153-4ad5-b7b6-e9a863cb6a7d",
   "metadata": {},
   "source": [
    "This is a simple arithmetic expression to multiply then add integers. \n"
   ]
  },
  {
   "cell_type": "code",
   "execution_count": 5,
   "id": "5622782b-f8fd-4dc6-9a99-edc14c8f8032",
   "metadata": {},
   "outputs": [
    {
     "data": {
      "text/plain": [
       "17"
      ]
     },
     "execution_count": 5,
     "metadata": {},
     "output_type": "execute_result"
    }
   ],
   "source": [
    "(3*4)+5"
   ]
  },
  {
   "cell_type": "markdown",
   "id": "ffab9784-2b50-4ec6-bb33-b8cf7e803696",
   "metadata": {},
   "source": [
    "This will convert 200 minutes to hours by dividing by 60. "
   ]
  },
  {
   "cell_type": "code",
   "execution_count": 6,
   "id": "85593956-c39b-452f-b51d-182949ca2238",
   "metadata": {},
   "outputs": [
    {
     "data": {
      "text/plain": [
       "3.3333333333333335"
      ]
     },
     "execution_count": 6,
     "metadata": {},
     "output_type": "execute_result"
    }
   ],
   "source": [
    "200/60"
   ]
  },
  {
   "cell_type": "markdown",
   "id": "2afbf655-4f21-4475-9e8e-52aec22bc35c",
   "metadata": {},
   "source": [
    "## Author\n",
    "Will Montaruli"
   ]
  },
  {
   "cell_type": "code",
   "execution_count": null,
   "id": "a68044e8-9ca6-45cf-ab73-19e730af3f65",
   "metadata": {},
   "outputs": [],
   "source": []
  }
 ],
 "metadata": {
  "kernelspec": {
   "display_name": "Python",
   "language": "python",
   "name": "conda-env-python-py"
  },
  "language_info": {
   "codemirror_mode": {
    "name": "ipython",
    "version": 3
   },
   "file_extension": ".py",
   "mimetype": "text/x-python",
   "name": "python",
   "nbconvert_exporter": "python",
   "pygments_lexer": "ipython3",
   "version": "3.7.12"
  }
 },
 "nbformat": 4,
 "nbformat_minor": 5
}
